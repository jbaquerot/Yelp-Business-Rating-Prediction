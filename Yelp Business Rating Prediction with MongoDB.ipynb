{
 "metadata": {
  "name": "Yelp Business Rating Prediction with MongoDB"
 },
 "nbformat": 3,
 "nbformat_minor": 0,
 "worksheets": [
  {
   "cells": [
    {
     "cell_type": "code",
     "collapsed": false,
     "input": [
      "import pymongo as mongo\n",
      "import pandas as pd\n",
      "from bson.son import SON\n",
      "import csv"
     ],
     "language": "python",
     "metadata": {},
     "outputs": [],
     "prompt_number": 149
    },
    {
     "cell_type": "code",
     "collapsed": false,
     "input": [
      "mongoClient = mongo.MongoClient('localhost', 27017)\n",
      "dbYelp = mongoClient['yelp']"
     ],
     "language": "python",
     "metadata": {},
     "outputs": [],
     "prompt_number": 2
    },
    {
     "cell_type": "code",
     "collapsed": false,
     "input": [
      "#businessCol = dbYelp['training.business']\n",
      "#bussinessDF = pd.DataFrame(list(businessCol.find({})))"
     ],
     "language": "python",
     "metadata": {},
     "outputs": [],
     "prompt_number": 7
    },
    {
     "cell_type": "code",
     "collapsed": false,
     "input": [
      "def getBusiness(business_id):\n",
      "    return dbYelp.training.business.find_one({\"business_id\":business_id})"
     ],
     "language": "python",
     "metadata": {},
     "outputs": [],
     "prompt_number": 109
    },
    {
     "cell_type": "code",
     "collapsed": false,
     "input": [
      "def getUserCategories(user_id):\n",
      "    businessReviewed = dbYelp.training.review.aggregate([\n",
      "        {\"$match\":{\"user_id\":user_id}},\n",
      "        {\"$group\":\n",
      "            {\n",
      "                \"_id\":\"$user_id\",\n",
      "                \"num_reviews\":{\"$sum\":1},\n",
      "                \"business\":{\"$push\":{\"business_id\":\"$business_id\",\"starts\":\"$stars\"}}\n",
      "            }\n",
      "        }\n",
      "    ])['result']\n",
      "    categories = set()\n",
      "    for result in businessReviewed:\n",
      "        for b in result['business']:{\n",
      "            categories.update( getBusiness(b['business_id'])['categories'])\n",
      "         }\n",
      "    \n",
      "    businessReviewed = dbYelp.test.review.aggregate([\n",
      "        {\"$match\":{\"user_id\":user_id}},\n",
      "        {\"$group\":\n",
      "            {\n",
      "                \"_id\":\"$user_id\",\n",
      "                \"num_reviews\":{\"$sum\":1},\n",
      "                \"business\":{\"$push\":{\"business_id\":\"$business_id\",\"starts\":\"$stars\"}}\n",
      "            }\n",
      "        }\n",
      "    ])['result']\n",
      "    for result in businessReviewed:\n",
      "        for b in result['business']:{\n",
      "            categories.update( getBusiness(b['business_id'])['categories'])\n",
      "         }\n",
      "    \n",
      "    return list(categories)\n",
      "                                      \n",
      "#businessReviewed[\"business\"]   \n",
      "    \n",
      "#for bussiness_id in businessReviewed[business][business_id]"
     ],
     "language": "python",
     "metadata": {},
     "outputs": [],
     "prompt_number": 188
    },
    {
     "cell_type": "code",
     "collapsed": false,
     "input": [
      "for user in dbYelp.training.user.find({},{\"_id\":0,\"user_id\":1}):\n",
      "    #print user['user_id']\n",
      "    user_id=user['user_id']\n",
      "    dbYelp.training.userCategories.insert({\"user_id\":user_id, \"categories\":getUserCategories(user_id)})"
     ],
     "language": "python",
     "metadata": {},
     "outputs": [],
     "prompt_number": 190
    },
    {
     "cell_type": "code",
     "collapsed": false,
     "input": [
      "getUserCategories(\"2WkM3pYfx7bt46tv7u4hHA\")"
     ],
     "language": "python",
     "metadata": {},
     "outputs": [
      {
       "output_type": "pyout",
       "prompt_number": 191,
       "text": [
        "[u'Bars',\n",
        " u'Auto Repair',\n",
        " u'Automotive',\n",
        " u'Performing Arts',\n",
        " u'Arts & Entertainment',\n",
        " u'Tires',\n",
        " u'Oil Change Stations',\n",
        " u'Nightlife',\n",
        " u'Lounges',\n",
        " u'Gay Bars',\n",
        " u'Dive Bars']"
       ]
      }
     ],
     "prompt_number": 191
    },
    {
     "cell_type": "code",
     "collapsed": false,
     "input": [
      "def bestUsersFitted(user_id):\n",
      "    categories = getUserCategories(user_id)\n",
      "    users = []\n",
      "    result = dbYelp.training.userCategories.aggregate([\n",
      "                {\"$match\":{\"categories\":{\"$all\": categories}}},\n",
      "                {\"$unwind\" : \"$categories\"},\n",
      "                {\"$group\":\n",
      "                    {\n",
      "                        \"_id\":\"$user_id\",\n",
      "                        \"num_cat\":{\"$sum\":1}\n",
      "                    }\n",
      "                },\n",
      "                {\"$sort\":{\"num_cat\":1}},\n",
      "                {\"$limit\":50}\n",
      "            ])['result']\n",
      "    for u in result:\n",
      "        users.append(u['_id'])\n",
      "    return users"
     ],
     "language": "python",
     "metadata": {},
     "outputs": [],
     "prompt_number": 170
    },
    {
     "cell_type": "code",
     "collapsed": false,
     "input": [
      "bestUserFitted(\"2WkM3pYfx7bt46tv7u4hHA\")"
     ],
     "language": "python",
     "metadata": {},
     "outputs": [
      {
       "output_type": "pyout",
       "prompt_number": 192,
       "text": [
        "[u'2WkM3pYfx7bt46tv7u4hHA',\n",
        " u'Iycf9KNRhxvR187Qu2zZHg',\n",
        " u'pv82zTlB5Txsu2Pusu__FA']"
       ]
      }
     ],
     "prompt_number": 192
    },
    {
     "cell_type": "code",
     "collapsed": false,
     "input": [
      "def getBusinessByCategories(categories):\n",
      "\n",
      "    business = []\n",
      "    for b in dbYelp.training.business.find({\"categories\":{\"$in\":categories}}):\n",
      "        business.append(b['business_id'])\n",
      "    return business"
     ],
     "language": "python",
     "metadata": {},
     "outputs": [],
     "prompt_number": 129
    },
    {
     "cell_type": "code",
     "collapsed": false,
     "input": [
      "def getBestRate(user_id,business_id):\n",
      "    categories = getBusiness(business_id)['categories']\n",
      "    if len(categories) == 0:\n",
      "        return 3.5\n",
      "    similar_users = bestUsersFitted(user_id)\n",
      "    similar_business = getBusinessByCategories(categories)\n",
      "    result = dbYelp.training.review.aggregate([\n",
      "                {\"$match\":\n",
      "                    {\n",
      "                        \"user_id\": {\"$in\": similar_users},\n",
      "                        \"business_id\": {\"$in\" : similar_business}\n",
      "                    }\n",
      "                },\n",
      "                {\"$group\":\n",
      "                    {\n",
      "                        \"_id\": \"null\",\n",
      "                        \"avg_stars\":{\"$avg\":\"$stars\"},\n",
      "                        \"max_stars\":{\"$max\":\"$stars\"},\n",
      "                        \"min_stars\":{\"$min\":\"$stars\"}\n",
      "                    }\n",
      "                }\n",
      "            ])['result']\n",
      "    if len(result) == 0:\n",
      "        result = dbYelp.training.review.aggregate([\n",
      "                {\"$match\":\n",
      "                    {\n",
      "                        \"business_id\": {\"$in\" : similar_business}\n",
      "                    }\n",
      "                },\n",
      "                {\"$group\":\n",
      "                    {\n",
      "                        \"_id\": \"null\",\n",
      "                        \"avg_stars\":{\"$avg\":\"$stars\"},\n",
      "                        \"max_stars\":{\"$max\":\"$stars\"},\n",
      "                        \"min_stars\":{\"$min\":\"$stars\"}\n",
      "                    }\n",
      "                }\n",
      "            ])['result']\n",
      "        mean = (result[0]['min_stars']+4*result[0]['avg_stars']+result[0]['max_stars'])/6\n",
      "    return mean"
     ],
     "language": "python",
     "metadata": {},
     "outputs": [],
     "prompt_number": 204
    },
    {
     "cell_type": "code",
     "collapsed": false,
     "input": [
      "user_id = 'W9n_ZyVCXD0HfPqn6qriOw'\n",
      "business_id = 'FMrpyKPa4ffQmo015b3Bmg'\n",
      "categories = getBusiness(business_id)['categories']\n",
      "print categories\n",
      "categories = getUserCategories(user_id)\n",
      "print categories\n",
      "similar_users = bestUsersFitted(user_id)\n",
      "print similar_users\n",
      "getBestRate(user_id,business_id)\n"
     ],
     "language": "python",
     "metadata": {},
     "outputs": [
      {
       "output_type": "stream",
       "stream": "stdout",
       "text": [
        "[u'Pet Groomers', u'Pet Services', u'Pet Boarding/Pet Sitting', u'Pets']\n",
        "[u'Dance Clubs', u'Drugstores', u'American (New)', u'Tapas/Small Plates', u'Beauty & Spas', u'Coffee & Tea', u'Dog Parks', u'Airport Shuttles', u'Arts & Entertainment', u'Breakfast & Brunch', u'Pet Groomers', u'Sandwiches', u'Pets', u'Fast Food', u'Gay Bars', u'Pizza', u'Shopping', u'Parks', u'Barbeque', u'Hawaiian', u'Outdoor Gear', u'Food', u'Automotive', u'Airlines', u'Photographers', u'Mini Golf', u'Parking', u'Steakhouses', u'Lounges', u'Climbing', u'Thai', u'Restaurants', u'Venues & Event Spaces', u'Music Venues', u'Bakeries', u'Grocery', u'Airports', u'Wine Bars', u'Gelato', u'Breweries', u'Barbers', u'Party & Event Planning', u'Burgers', u'Nightlife', u'Sporting Goods', u'Amusement Parks', u'Transportation', u'Guns & Ammo', u'Dive Bars', u'Italian', u'Ice Cream & Frozen Yogurt', u'Bars', u'Sports Bars', u'Mexican', u'Hiking', u'American (Traditional)', u'Pet Services', u'Active Life', u'Desserts', u'Delis', u'Bikes', u'Hotels & Travel', u'Specialty Food', u'Health Markets', u'Pet Boarding/Pet Sitting', u'Tex-Mex', u'Event Planning & Services']"
       ]
      },
      {
       "output_type": "stream",
       "stream": "stdout",
       "text": [
        "\n",
        "[u'W9n_ZyVCXD0HfPqn6qriOw']"
       ]
      },
      {
       "output_type": "stream",
       "stream": "stdout",
       "text": [
        "\n"
       ]
      },
      {
       "output_type": "pyout",
       "prompt_number": 215,
       "text": [
        "4.191365979381444"
       ]
      }
     ],
     "prompt_number": 215
    },
    {
     "cell_type": "code",
     "collapsed": false,
     "input": [
      "with open(\"result3.csv\",'wb') as f:\n",
      "   # Using dictionary keys as fieldnames for the CSV file header\n",
      "    writer = csv.DictWriter(f, ['user_id','business_id','stars'])\n",
      "    writer.writeheader()\n",
      "    for review in dbYelp.test.review.find():\n",
      "        user = review['user_id']\n",
      "        #print \"user:%s\" %user\n",
      "        business = review['business_id']\n",
      "        #print \"business:%s\" %business\n",
      "        stars = getBestRate(user,business)\n",
      "        writer.writerow({'user_id':user,'business_id':business,'stars':stars})\n"
     ],
     "language": "python",
     "metadata": {},
     "outputs": [],
     "prompt_number": 206
    },
    {
     "cell_type": "code",
     "collapsed": false,
     "input": [
      "cr = csv.reader(open(\"result3.csv\",\"rb\"))\n",
      "cw = csv.writer(open(\"result4.csv\", \"wb\"),lineterminator=\"\\n\")\n",
      "i=0\n",
      "for row in cr:\n",
      "    if i!=0:\n",
      "        cw.writerow([i, row[2]])\n",
      "    i=i+1\n",
      "    \n",
      "print i"
     ],
     "language": "python",
     "metadata": {},
     "outputs": [
      {
       "output_type": "stream",
       "stream": "stdout",
       "text": [
        "22957\n"
       ]
      }
     ],
     "prompt_number": 214
    }
   ],
   "metadata": {}
  }
 ]
}