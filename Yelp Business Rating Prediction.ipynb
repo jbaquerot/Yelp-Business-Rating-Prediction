{
 "metadata": {
  "name": "Yelp Business Rating Prediction"
 },
 "nbformat": 3,
 "nbformat_minor": 0,
 "worksheets": [
  {
   "cells": [
    {
     "cell_type": "heading",
     "level": 1,
     "metadata": {},
     "source": [
      "Loading Libraries"
     ]
    },
    {
     "cell_type": "code",
     "collapsed": false,
     "input": [
      "import pandas as pd\n",
      "import numpy as np\n",
      "import json\n",
      "import matplotlib.pyplot as plt"
     ],
     "language": "python",
     "metadata": {},
     "outputs": [],
     "prompt_number": 12
    },
    {
     "cell_type": "heading",
     "level": 2,
     "metadata": {},
     "source": [
      "Reading Training Data Set"
     ]
    },
    {
     "cell_type": "code",
     "collapsed": false,
     "input": [
      "fileBusiness = './yelp_training_set/yelp_training_set_business.json'\n",
      "business = pd.DataFrame([json.loads(line) for line in open(fileBusiness)])\n",
      "\n",
      "fileCheckings = './yelp_training_set/yelp_training_set_checkin.json'\n",
      "checkings = pd.DataFrame([json.loads(line) for line in open(fileCheckings)])\n",
      "\n",
      "\n"
     ],
     "language": "python",
     "metadata": {},
     "outputs": [],
     "prompt_number": 31
    },
    {
     "cell_type": "code",
     "collapsed": false,
     "input": [
      "fileReviews =  './yelp_training_set/yelp_training_set_review.json'\n",
      "reviews = pd.DataFrame([json.loads(line) for line in open(fileReviews)])\n",
      "\n",
      "fileUsers = './yelp_training_set/yelp_training_set_user.json'\n",
      "users = pd.DataFrame([json.loads(line) for line in open(fileUsers)])\n",
      "\n"
     ],
     "language": "python",
     "metadata": {},
     "outputs": [],
     "prompt_number": 37
    },
    {
     "cell_type": "heading",
     "level": 2,
     "metadata": {},
     "source": [
      "Creating index"
     ]
    },
    {
     "cell_type": "code",
     "collapsed": false,
     "input": [
      "#business.index = business.business_id\n",
      "#reviewIndex = (reviews.business_id.unique,reviews.user_id.unique)\n",
      "#reviews.index = pd.MultiIndex.from_tuples([reviewIndex], names=['business_id','user_id'])\n",
      "reviewsIndexed = reviews.set_index(['business_id', 'user_id'])\n",
      "businessIndexed = business.set_index('business_id')\n",
      "print businessIndexed.index\n",
      "print reviewsIndexed.index"
     ],
     "language": "python",
     "metadata": {},
     "outputs": [
      {
       "output_type": "stream",
       "stream": "stdout",
       "text": [
        "Index([rncjoVoEFUJGCUoC1JgnUA, 0FNFSzCFP_rGUoJx8W7tJg, 3f_lyB6vFK48ukH6ScvLHg, ..., diW9KhKuhBCblBdnAkUkpQ, tQTqlMW0sODNbe188ah1Yg, 6yVe_iet5qD7SzVMhRYYog], dtype=object)\n",
        "MultiIndex\n",
        "[9yKzy9PApeiPPOUJEtnvkg  rLtl8ZkDX5vH5nAx9C3q5Q, ZRJwVLyzEJq1VAihDhYiow  0a2KyEL0d3Yb1V6aivbIuQ, 6oRAC4uyJCsJl1X0WZpVSA  0hT2KtfLiobPvh6cDC8JQg, _1QQZuf4zZOyFCvXc0o6Vg  uZetl9T0NcROGOyFfughhg, 6ozycU1RpktNG2-1BroVtw  vYmM4KTsC8ZfQBg-j5MWkw, -yxfBYGB6SEqszmxJxd97A  sqYN3lNgvPbPCTRsMFu27g, zp713qNhx8d9KCJJnrw1xA  wFweIWhv2fREZV_dYkz_1g, hW0Ne_HTHEAgGF1rAdmR-g  1ieuYcKS7zeAv_U15AB13A, wNUea3IXZWD63bbOQaOH-g  Vh_DlizgGhSqQh4qfZ2h6A, nMHhuYan8e3cONo3PornJA  sUNkXg8-KFtCMQDV6zRzQg, AsSCv0q_BWqIe3mX2JqsOQ  -OMlS6yWkYjVldNhC31wYg, e9nN4XxjdHj4qtKCOPq_vg  C1rHp3dmepNea7XiouwB6Q, h53YuCiIDfEFSJCQpk8v1g  UPtysDF6cUDUxq2KY-6Dcg, WGNIYMeXPyoWav1APUq7jA  Xm8HXE1JHqscXe5BKf0GFQ, yc5AH9H71xJidA_J2mChLA  JOG-4G4e8ae3lx_szHtR8g, Vb9FPCEL6Ly24PNxLBaAFw  ylWOj2y7TV2e3yYeWhu2QA, supigcPNO9IKo6olaTNV-g  SBbftLzfYYKItOMFwOTIJg, O510Re68mOy9dU490JTKCg  u1KWcbPMvXFEEYkZZ0Yktg, b5cEoKR8iQliq-yT2_O0LQ  UsULgP4bKA8RMzs8dQzcsA, 4JzzbSbK9wmlOBJZWYfuCg  nDBly08j5URmrHQ2JCbyiw, 8FNO4D3eozpIjj0k3q5Zbg  C6IOtaaYdLIT5fWd7ZYIuA, tdcjXyFLMKAsvRhURNOkCg  YN3ZLOdg8kpnfbVcIhuEZA, eFA9dqXT5EA_TrMgbo03QQ  6lg55RIP23VhjYEBXJ8Njw, IJ0o6b8bJFAbG6MjGfBebQ  zRlQEDYd_HKp0VS3hnAffA, JhupPnWfNlMJivnWB5druA  13xj6FSvYO0rZVRv5XZp4w, wzP2yNpV5p04nh0injjymA  rLtl8ZkDX5vH5nAx9C3q5Q, qjmCVYkwP-HDa35jwYucbQ  fpItLlgimq0nRltWOkuJJw, wct7rZKyZqZftzmAU-vhWQ  RRTraCQw77EU4yZh0BBTag, vz2zQQSjy-NnnKLZzjjoxA  EP3cGJvYiuOwumerwADplg, i213sY5rhkfCO8cD-FPr1A  kpbhy1zPewGDmdNfNqQp-g, V1nEpIRmEa1768oj_tuxeQ  bCKjygWJZOQHCOzootbvow, vvA3fbps4F9nGlAEYKk_sA  8AMn6644NmBf96xGO3w6OA, rxQ2PIjhAx6dgAqUalf99Q  HLbhD2OyiMCUDRR4c1iXaw, qjmCVYkwP-HDa35jwYucbQ  3iuZFgxUFKLxOplkDrFmyg, 3oLy0rlzRI_xiqfQHqC4_g  1guJDgUfTiDdbgKqBhsZFQ, o1GIYYZJjM6nM03fQs_uEQ  iwUN95LIaEr75TZE_JC6bg, Pr9rQKypHgC_J1AfufxzIw  iFa0SLpNeLbx6aux65mNbQ, AGar9KVq_W7YcF76avbDTw  370JyOQfFcPSB9_jk641gA, -kVXDEqGHOWKxQ3EhvFgVA  Ja8SAyDdf1aY-E7vVixJiw, qyNtVViurIcChc35mfYIEw  N3L6SDymSRkYQtTiSDmXSg, umdxfhSlk67yGEi8-S-bEg  F0dO68TECqEJBhBJ4P0qVA, qsThMZ3lXWYLN4t08ScsNA  W_QXYA7A0IhMrvbckz7eVg, puy0PzIcCgR3KWJI7llBFQ  PiDqfET_ZrDKJSLKe03O9A, e0vubCKi8KD8zC2C6FdbuQ  wv5-4IPtpVA8wdqXu-Onpw, faSdsW2s_SaVN0KTy-R2MQ  7cR92zkDv4W3kqzii6axvg, qB-qsaSnhbHCt18_AN4Quw  66PQJEHC0tCWGMI4V9KT-Q, aRkYtXfmEKYG-eTDf_qUsw  IUWjTmXc3wLVaMHz33inaA, JuBygU4XDjqSeW9okyvbsQ  1MyXsAhZK35A6EAr4reLCA, jRfdz5voj40P6WS9L54caw  r-t7IiTSD0QZdt8lOUCqeQ, 7SO_rX1F6rQEl-5s3wZxgQ  J3I2NClEbD1Xr8lOdjxlqQ, ..., Y-9dJvw-J2d9QKfuL7mKgA  Wy7f9DOuBEOenhnA7KIKoQ, wH9WtaTlrRawH_IpK90RPg  d0wJVf7Gv7v1B-HHYhxZtQ, bU1ShcSD6obWRDqyu-IG4w  kG8jkVFgOAOq6Ht6RvAjEQ, NFICjOJG4AP1NQZHkW4AxQ  P5ZUVdI7TmJXnqQGM5KTxg, YSesarsmfOIKwx6eiRqFZQ  qAZUqkoRybZ_mS0ORO_0Tw, FV0BkoGOd3Yu_eJnXY15ZA  sYxD6VdrAaajp-gxim0I_Q, Fb61fg731Yrn9-7RFBPDdA  lHPFFu5Hq2G1D17q1aU8Bg, vtQOervVVTXjhvSZQiZ6PA  VeycloT_I8xSjUdHP-EHyA, c1yGkETheht_1vjda7G5sA  KehsH-jOkQ_Hv8P94s5How, _FXql6eVhbM923RdCi94SA  F5ffMTVBh8ruqFeGIItyiA, VsrvWdZL2993olnW3z8R3A  3Zi1udoY2iT9s8Q3X6tgZQ, -UT6IHfVW_2yzz1bf8WI5g  BAN0_dqKlUVYml7LfRoFSQ, xgfjaN0Vt9cj2div4kIKUg  L56wgzkIBP5_zVPHQ9XQCA, cqIHyZ3Q0D4vBi-vb4mi-g  D9WIDdPgbOk8-ChvH_hUfQ, qak_x5J-ntcT2iOdJoS60A  LnoQBXbZae3NF6_a4mVtJQ, JBalw-Moa6TnjYBhvNKhqw  WQFJ8_V1lao4oZ_FKbk5Zg, e8FMAuTswDueAlLsNyLhcA  k6xDCakturvYo1afdPMP6g, FURgKkRFtMK5yKbjYZVVwA  T_CTAXp6aH5HQhDPc6Kr_w, tAmevVP8B7PiWxcJ0PlYVA  HvaVgP0S0dFaCbBDIQIkag, R8VwdLyvsp9iybNqRvm94g  N1Q6HiZvnZHjNU712Gymqw, cVejKU_SrdbvzIbQ4oPV0A  e9d9EQqOd2-NlX8WFx0aEg, lktu5JPDlQUG-7cV7gOzDQ  ayKW9eWwGFcrtJaHcwZUCw, N_6bV3c3JagKW7sD3X9ldA  2FiNCj5rM3nF0qgaWf86Gg, wN_wAXWg8W94v04eqijy6g  NfyrHToGY6aJu22U9oS8Xg, rwQIBAM_kHtVl1Ks8Flexw  KucBnMrhalzxnD9AWrxwYQ, FUI-hWH_bpis7AKZTWenUQ  Sa64rQmghfE9i17_dRIDyw, z7W0sUbrVi2k6R2BR5jtzw  8JC-Yb3UDUv2FUl5ym1nVg, sbnCG3-CouwIu0jsApfCsQ  mlY2rj2PBhK6-nlWjDMQIg, WQc22qucCCtOytbx5CHqbw  9yX1qVa2PJtd-yx9M5xuFg, tI600wWPFDc4bxEvrbBpRQ  IC1rNlFJSzEJK8AFfDlfcg, Ez2MFsVT5lJZ05yvK_0AXQ  SC_bFYaDgDub7tDjKCvV_g, hWhVP-28LYP3llaMlAJ_JA  6TnX7mzI-jfgK6teWqIS9Q, cE99Cjrj2YXSGs4MECb86w  tlSSQwfHYJany7wPoTH46A, pS19vd7pkIsd4nXT-hUUNQ  1X5BItB--PO2zn69nyfvLw, fPExBO1aXA5c4uwlHFyx2Q  zgOeUiJnNMLOocpYN4m2VQ, ybXlbfOjrKDdz5NoC-G9Gw  hs8t_DMnNNpf_wXtFE2xpw, c8XlQvVNwKhH9BOHEObtNQ  8dbRf1UsWp2ktXHZ6Zv06w, Tt6DYs0TyERWHWW5xiRL_A  t7FjQwcAY2wYJMgmfVrvKQ, 6imLt53br7SJ3av07jjH7w  Lk9_kIKXGxnfcfQ6coI9ig, uEJQSIjWui-TDWXaGlcqyQ  oJTwHtNlipl1iqaFV7HHZA, j5HLcBru7FEirYJPbKFVWA  UoBfwbXaixelZBghbJ2cSg, FV0BkoGOd3Yu_eJnXY15ZA  tTO6rv0Z9aNNYmmZU_BR4g, Li5LOL873Ep8HoPRML18sw  Ak2jlINPRk9dWWazWUW2hA, Y-9dJvw-J2d9QKfuL7mKgA  CAlxnkAuqNetlUmWtCQ_eQ, C1tH3sEQra33EOTk56Eu1Q  q9XgOylNsSbqZqF_SO3-OQ, vnffHkFJbmd-J3OaBbK2Eg  6e7pZofhDuIlD_rX2oYirQ, l5oUrgQ190l8CcN8uzd_pA  dDNfSFT0VApxPmURclX6_g, -EctXOb3B7T177jGYUhjVA  M5wHt6Odh1k5v0tIjqd8DQ, YQvg0JCGRFUkb6reMMf3Iw  jopndPrv-H5KW2CfScnw9A, gKxOZvQTTd5hpFa3r5igGQ  mbRUG6h0Mgb2XIJvscIoMg]\n"
       ]
      }
     ],
     "prompt_number": 8
    },
    {
     "cell_type": "heading",
     "level": 2,
     "metadata": {},
     "source": [
      "Join Data Set"
     ]
    },
    {
     "cell_type": "code",
     "collapsed": false,
     "input": [
      "checkings"
     ],
     "language": "python",
     "metadata": {},
     "outputs": [
      {
       "html": [
        "<pre>\n",
        "&ltclass 'pandas.core.frame.DataFrame'&gt\n",
        "Int64Index: 8282 entries, 0 to 8281\n",
        "Data columns (total 3 columns):\n",
        "business_id     8282  non-null values\n",
        "checkin_info    8282  non-null values\n",
        "type            8282  non-null values\n",
        "dtypes: object(3)\n",
        "</pre>"
       ],
       "output_type": "pyout",
       "prompt_number": 40,
       "text": [
        "<class 'pandas.core.frame.DataFrame'>\n",
        "Int64Index: 8282 entries, 0 to 8281\n",
        "Data columns (total 3 columns):\n",
        "business_id     8282  non-null values\n",
        "checkin_info    8282  non-null values\n",
        "type            8282  non-null values\n",
        "dtypes: object(3)"
       ]
      }
     ],
     "prompt_number": 40
    },
    {
     "cell_type": "code",
     "collapsed": false,
     "input": [
      "dataSet= pd.merge(\n",
      "        pd.merge(\n",
      "            pd.merge(\n",
      "                business,\n",
      "                checkings,\n",
      "                on='business_id'),\n",
      "            reviews, on='business_id'),\n",
      "        users, on='user_id')"
     ],
     "language": "python",
     "metadata": {},
     "outputs": [],
     "prompt_number": 42
    },
    {
     "cell_type": "code",
     "collapsed": false,
     "input": [
      "dataSet.business_id"
     ],
     "language": "python",
     "metadata": {},
     "outputs": [
      {
       "output_type": "pyout",
       "prompt_number": 46,
       "text": [
        "0     usAsSV36QmUej8--yvN-dg\n",
        "1     0dIChGWBs9ueUXl0hhkw2w\n",
        "2     eQ9I23C8O9ruHIaupxp40g\n",
        "3     P7wKlbSRsoRrfH3DFOY08A\n",
        "4     OFBJtqWGSx6n6CchtVmoRw\n",
        "5     JhupPnWfNlMJivnWB5druA\n",
        "6     usAsSV36QmUej8--yvN-dg\n",
        "7     ycBa5cnSa6hgdB7rb9rdiw\n",
        "8     C_eWAEOvkHZ_IZYGwjtpmg\n",
        "9     CVk_Jk7vU9JlP-U_fArQqA\n",
        "10    J3INwTy4KZJ8aJwVoOqAJA\n",
        "11    wZwZcte4lcbu51NOzCjWbQ\n",
        "12    AAGO39io2Ko0fgr6BhH-yQ\n",
        "13    K_IDEfLrLHLZdY-wA05stw\n",
        "14    LRLN1CIUprYLs6rWUC5bAg\n",
        "...\n",
        "200458    EcHuaHD9IcoPEWNsU8vDTw\n",
        "200459    EcHuaHD9IcoPEWNsU8vDTw\n",
        "200460    EcHuaHD9IcoPEWNsU8vDTw\n",
        "200461    EcHuaHD9IcoPEWNsU8vDTw\n",
        "200462    EcHuaHD9IcoPEWNsU8vDTw\n",
        "200463    GzVGqT454Ld3I1yrDmz5vA\n",
        "200464    GZ8KctCJxGzYZ7aAdapprg\n",
        "200465    GZ8KctCJxGzYZ7aAdapprg\n",
        "200466    F3tqTcfKnljJcSyyqN0bbw\n",
        "200467    F3tqTcfKnljJcSyyqN0bbw\n",
        "200468    F3tqTcfKnljJcSyyqN0bbw\n",
        "200469    F3tqTcfKnljJcSyyqN0bbw\n",
        "200470    diW9KhKuhBCblBdnAkUkpQ\n",
        "200471    tQTqlMW0sODNbe188ah1Yg\n",
        "200472    tQTqlMW0sODNbe188ah1Yg\n",
        "Name: business_id, Length: 200473, dtype: object"
       ]
      }
     ],
     "prompt_number": 46
    },
    {
     "cell_type": "code",
     "collapsed": false,
     "input": [],
     "language": "python",
     "metadata": {},
     "outputs": [],
     "prompt_number": 56
    },
    {
     "cell_type": "code",
     "collapsed": false,
     "input": [
      "business.neighborhoods.describe()"
     ],
     "language": "python",
     "metadata": {},
     "outputs": [
      {
       "ename": "TypeError",
       "evalue": "unhashable type: 'list'",
       "output_type": "pyerr",
       "traceback": [
        "\u001b[0;31m---------------------------------------------------------------------------\u001b[0m\n\u001b[0;31mTypeError\u001b[0m                                 Traceback (most recent call last)",
        "\u001b[0;32m<ipython-input-47-4b5fcf1ac8fa>\u001b[0m in \u001b[0;36m<module>\u001b[0;34m()\u001b[0m\n\u001b[0;32m----> 1\u001b[0;31m \u001b[0mbusiness\u001b[0m\u001b[0;34m.\u001b[0m\u001b[0mneighborhoods\u001b[0m\u001b[0;34m.\u001b[0m\u001b[0mdescribe\u001b[0m\u001b[0;34m(\u001b[0m\u001b[0;34m)\u001b[0m\u001b[0;34m\u001b[0m\u001b[0m\n\u001b[0m",
        "\u001b[0;32m/Users/Carlos/.virtual_envs/system/lib/python2.7/site-packages/pandas/core/series.pyc\u001b[0m in \u001b[0;36mdescribe\u001b[0;34m(self, percentile_width)\u001b[0m\n\u001b[1;32m   1774\u001b[0m         \u001b[0;32mif\u001b[0m \u001b[0mself\u001b[0m\u001b[0;34m.\u001b[0m\u001b[0mdtype\u001b[0m \u001b[0;34m==\u001b[0m \u001b[0mobject\u001b[0m\u001b[0;34m:\u001b[0m\u001b[0;34m\u001b[0m\u001b[0m\n\u001b[1;32m   1775\u001b[0m             \u001b[0mnames\u001b[0m \u001b[0;34m=\u001b[0m \u001b[0;34m[\u001b[0m\u001b[0;34m'count'\u001b[0m\u001b[0;34m,\u001b[0m \u001b[0;34m'unique'\u001b[0m\u001b[0;34m]\u001b[0m\u001b[0;34m\u001b[0m\u001b[0m\n\u001b[0;32m-> 1776\u001b[0;31m             \u001b[0mobjcounts\u001b[0m \u001b[0;34m=\u001b[0m \u001b[0mCounter\u001b[0m\u001b[0;34m(\u001b[0m\u001b[0mself\u001b[0m\u001b[0;34m.\u001b[0m\u001b[0mdropna\u001b[0m\u001b[0;34m(\u001b[0m\u001b[0;34m)\u001b[0m\u001b[0;34m.\u001b[0m\u001b[0mvalues\u001b[0m\u001b[0;34m)\u001b[0m\u001b[0;34m\u001b[0m\u001b[0m\n\u001b[0m\u001b[1;32m   1777\u001b[0m             \u001b[0mdata\u001b[0m \u001b[0;34m=\u001b[0m \u001b[0;34m[\u001b[0m\u001b[0mself\u001b[0m\u001b[0;34m.\u001b[0m\u001b[0mcount\u001b[0m\u001b[0;34m(\u001b[0m\u001b[0;34m)\u001b[0m\u001b[0;34m,\u001b[0m \u001b[0mlen\u001b[0m\u001b[0;34m(\u001b[0m\u001b[0mobjcounts\u001b[0m\u001b[0;34m)\u001b[0m\u001b[0;34m]\u001b[0m\u001b[0;34m\u001b[0m\u001b[0m\n\u001b[1;32m   1778\u001b[0m             \u001b[0;32mif\u001b[0m \u001b[0mdata\u001b[0m\u001b[0;34m[\u001b[0m\u001b[0;36m1\u001b[0m\u001b[0;34m]\u001b[0m \u001b[0;34m>\u001b[0m \u001b[0;36m0\u001b[0m\u001b[0;34m:\u001b[0m\u001b[0;34m\u001b[0m\u001b[0m\n",
        "\u001b[0;32m/System/Library/Frameworks/Python.framework/Versions/2.7/lib/python2.7/collections.pyc\u001b[0m in \u001b[0;36m__init__\u001b[0;34m(self, iterable, **kwds)\u001b[0m\n\u001b[1;32m    416\u001b[0m         '''\n\u001b[1;32m    417\u001b[0m         \u001b[0msuper\u001b[0m\u001b[0;34m(\u001b[0m\u001b[0mCounter\u001b[0m\u001b[0;34m,\u001b[0m \u001b[0mself\u001b[0m\u001b[0;34m)\u001b[0m\u001b[0;34m.\u001b[0m\u001b[0m__init__\u001b[0m\u001b[0;34m(\u001b[0m\u001b[0;34m)\u001b[0m\u001b[0;34m\u001b[0m\u001b[0m\n\u001b[0;32m--> 418\u001b[0;31m         \u001b[0mself\u001b[0m\u001b[0;34m.\u001b[0m\u001b[0mupdate\u001b[0m\u001b[0;34m(\u001b[0m\u001b[0miterable\u001b[0m\u001b[0;34m,\u001b[0m \u001b[0;34m**\u001b[0m\u001b[0mkwds\u001b[0m\u001b[0;34m)\u001b[0m\u001b[0;34m\u001b[0m\u001b[0m\n\u001b[0m\u001b[1;32m    419\u001b[0m \u001b[0;34m\u001b[0m\u001b[0m\n\u001b[1;32m    420\u001b[0m     \u001b[0;32mdef\u001b[0m \u001b[0m__missing__\u001b[0m\u001b[0;34m(\u001b[0m\u001b[0mself\u001b[0m\u001b[0;34m,\u001b[0m \u001b[0mkey\u001b[0m\u001b[0;34m)\u001b[0m\u001b[0;34m:\u001b[0m\u001b[0;34m\u001b[0m\u001b[0m\n",
        "\u001b[0;32m/System/Library/Frameworks/Python.framework/Versions/2.7/lib/python2.7/collections.pyc\u001b[0m in \u001b[0;36mupdate\u001b[0;34m(self, iterable, **kwds)\u001b[0m\n\u001b[1;32m    498\u001b[0m                 \u001b[0mself_get\u001b[0m \u001b[0;34m=\u001b[0m \u001b[0mself\u001b[0m\u001b[0;34m.\u001b[0m\u001b[0mget\u001b[0m\u001b[0;34m\u001b[0m\u001b[0m\n\u001b[1;32m    499\u001b[0m                 \u001b[0;32mfor\u001b[0m \u001b[0melem\u001b[0m \u001b[0;32min\u001b[0m \u001b[0miterable\u001b[0m\u001b[0;34m:\u001b[0m\u001b[0;34m\u001b[0m\u001b[0m\n\u001b[0;32m--> 500\u001b[0;31m                     \u001b[0mself\u001b[0m\u001b[0;34m[\u001b[0m\u001b[0melem\u001b[0m\u001b[0;34m]\u001b[0m \u001b[0;34m=\u001b[0m \u001b[0mself_get\u001b[0m\u001b[0;34m(\u001b[0m\u001b[0melem\u001b[0m\u001b[0;34m,\u001b[0m \u001b[0;36m0\u001b[0m\u001b[0;34m)\u001b[0m \u001b[0;34m+\u001b[0m \u001b[0;36m1\u001b[0m\u001b[0;34m\u001b[0m\u001b[0m\n\u001b[0m\u001b[1;32m    501\u001b[0m         \u001b[0;32mif\u001b[0m \u001b[0mkwds\u001b[0m\u001b[0;34m:\u001b[0m\u001b[0;34m\u001b[0m\u001b[0m\n\u001b[1;32m    502\u001b[0m             \u001b[0mself\u001b[0m\u001b[0;34m.\u001b[0m\u001b[0mupdate\u001b[0m\u001b[0;34m(\u001b[0m\u001b[0mkwds\u001b[0m\u001b[0;34m)\u001b[0m\u001b[0;34m\u001b[0m\u001b[0m\n",
        "\u001b[0;31mTypeError\u001b[0m: unhashable type: 'list'"
       ]
      }
     ],
     "prompt_number": 47
    },
    {
     "cell_type": "code",
     "collapsed": false,
     "input": [
      "fileBusiness = './yelp_training_set/yelp_training_set_business.json'\n",
      "business = pd.DataFrame([json.loads(line) for line in open(fileBusiness)])\n"
     ],
     "language": "python",
     "metadata": {},
     "outputs": [],
     "prompt_number": 27
    },
    {
     "cell_type": "code",
     "collapsed": false,
     "input": [
      "print business.index\n",
      "print reviews.index"
     ],
     "language": "python",
     "metadata": {},
     "outputs": [
      {
       "output_type": "stream",
       "stream": "stdout",
       "text": [
        "Index([rncjoVoEFUJGCUoC1JgnUA, 0FNFSzCFP_rGUoJx8W7tJg, 3f_lyB6vFK48ukH6ScvLHg, ..., diW9KhKuhBCblBdnAkUkpQ, tQTqlMW0sODNbe188ah1Yg, 6yVe_iet5qD7SzVMhRYYog], dtype=object)\n",
        "Index([9yKzy9PApeiPPOUJEtnvkg, ZRJwVLyzEJq1VAihDhYiow, 6oRAC4uyJCsJl1X0WZpVSA, ..., -EctXOb3B7T177jGYUhjVA, YQvg0JCGRFUkb6reMMf3Iw, gKxOZvQTTd5hpFa3r5igGQ], dtype=object)\n"
       ]
      }
     ],
     "prompt_number": 46
    },
    {
     "cell_type": "heading",
     "level": 1,
     "metadata": {},
     "source": [
      "Statistics"
     ]
    },
    {
     "cell_type": "heading",
     "level": 2,
     "metadata": {},
     "source": [
      "Business Statistics"
     ]
    },
    {
     "cell_type": "code",
     "collapsed": false,
     "input": [
      "business.describe"
     ],
     "language": "python",
     "metadata": {},
     "outputs": [
      {
       "output_type": "pyout",
       "prompt_number": 5,
       "text": [
        "<bound method DataFrame.describe of <class 'pandas.core.frame.DataFrame'>\n",
        "Int64Index: 11537 entries, 0 to 11536\n",
        "Data columns (total 13 columns):\n",
        "business_id      11537  non-null values\n",
        "categories       11537  non-null values\n",
        "city             11537  non-null values\n",
        "full_address     11537  non-null values\n",
        "latitude         11537  non-null values\n",
        "longitude        11537  non-null values\n",
        "name             11537  non-null values\n",
        "neighborhoods    11537  non-null values\n",
        "open             11537  non-null values\n",
        "review_count     11537  non-null values\n",
        "stars            11537  non-null values\n",
        "state            11537  non-null values\n",
        "type             11537  non-null values\n",
        "dtypes: bool(1), float64(3), int64(1), object(8)>"
       ]
      }
     ],
     "prompt_number": 5
    },
    {
     "cell_type": "code",
     "collapsed": false,
     "input": [
      "business.dtypes"
     ],
     "language": "python",
     "metadata": {},
     "outputs": [
      {
       "output_type": "pyout",
       "prompt_number": 8,
       "text": [
        "business_id       object\n",
        "categories        object\n",
        "city              object\n",
        "full_address      object\n",
        "latitude         float64\n",
        "longitude        float64\n",
        "name              object\n",
        "neighborhoods     object\n",
        "open                bool\n",
        "review_count       int64\n",
        "stars            float64\n",
        "state             object\n",
        "type              object\n",
        "dtype: object"
       ]
      }
     ],
     "prompt_number": 8
    },
    {
     "cell_type": "heading",
     "level": 3,
     "metadata": {},
     "source": [
      "Business City"
     ]
    },
    {
     "cell_type": "code",
     "collapsed": false,
     "input": [
      "businessCitiesCount = business.city.value_counts()\n",
      "businessCitiesCount[:10].plot(kind='bar', rot=0)"
     ],
     "language": "python",
     "metadata": {},
     "outputs": [
      {
       "output_type": "pyout",
       "prompt_number": 28,
       "text": [
        "<matplotlib.axes.AxesSubplot at 0x1165d6a10>"
       ]
      },
      {
       "output_type": "display_data",
       "png": "[encoded data removed]",
       "text": [
        "<matplotlib.figure.Figure at 0x116662d90>"
       ]
      }
     ],
     "prompt_number": 28
    },
    {
     "cell_type": "heading",
     "level": 3,
     "metadata": {},
     "source": [
      "Business States"
     ]
    },
    {
     "cell_type": "code",
     "collapsed": false,
     "input": [
      "businessStatesCount = business.state.value_counts()\n",
      "businessStatesCount.plot(kind='bar', rot=0)"
     ],
     "language": "python",
     "metadata": {},
     "outputs": [
      {
       "output_type": "pyout",
       "prompt_number": 25,
       "text": [
        "<matplotlib.axes.AxesSubplot at 0x116587a90>"
       ]
      },
      {
       "output_type": "display_data",
       "png": "[encoded data removed]",
       "text": [
        "<matplotlib.figure.Figure at 0x1165878d0>"
       ]
      }
     ],
     "prompt_number": 25
    },
    {
     "cell_type": "code",
     "collapsed": false,
     "input": [],
     "language": "python",
     "metadata": {},
     "outputs": []
    }
   ],
   "metadata": {}
  }
 ]
}